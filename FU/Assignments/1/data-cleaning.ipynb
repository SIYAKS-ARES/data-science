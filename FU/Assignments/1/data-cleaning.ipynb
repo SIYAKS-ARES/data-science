{
 "cells": [
  {
   "cell_type": "code",
   "execution_count": 21,
   "metadata": {},
   "outputs": [],
   "source": [
    "import pandas as pd\n",
    "import numpy as np\n",
    "from sklearn.preprocessing import MinMaxScaler, LabelEncoder"
   ]
  },
  {
   "cell_type": "code",
   "execution_count": 22,
   "metadata": {},
   "outputs": [],
   "source": [
    "# Rastgele veri oluşturma\n",
    "np.random.seed(0)"
   ]
  },
  {
   "cell_type": "code",
   "execution_count": 23,
   "metadata": {},
   "outputs": [],
   "source": [
    "# Örnek veri çerçevesi oluşturma\n",
    "veri = pd.DataFrame({\n",
    "    'Ad': ['Ahmet', 'Mehmet', 'Ayşe', 'Fatma', 'Ali', 'Ayşe', 'Ahmet', 'Fatma', 'Mehmet', 'Ali'],\n",
    "    'Yaş': [25, 30, 22, 35, 28, 22, np.nan, 35, 30, np.nan],\n",
    "    'Maaş': [5000, 6000, 5200, 7000, 6800, 5200, 5000, 7000, 6000, 6800],\n",
    "    'Şehir': ['İstanbul', 'Ankara', 'İzmir', 'Bursa', 'Antalya', np.nan, 'İstanbul', 'Bursa', 'Ankara', 'Antalya']\n",
    "})"
   ]
  },
  {
   "cell_type": "code",
   "execution_count": 24,
   "metadata": {},
   "outputs": [],
   "source": [
    "import pandas as pd\n",
    "\n",
    "# Veriyi sözlük olarak tanımla\n",
    "data = {\n",
    "    'Country': ['France', 'Spain', 'Germany', 'Spain', 'Germany', 'France', 'Spain', 'France', 'Germany', 'France'],\n",
    "    'Age': [44.0, 27.0, 30.0, 38.0, 40.0, 35.0, None, 48.0, 50.0, 37.0],\n",
    "    'Salary': [72000.0, 48000.0, 54000.0, 61000.0, None, 58000.0, 52000.0, 79000.0, 83000.0, 67000.0],\n",
    "    'Purchased': ['No', 'Yes', 'No', 'No', 'Yes', 'Yes', 'No', 'Yes', 'No', 'Yes']\n",
    "}\n",
    "\n",
    "# DataFrame oluştur\n",
    "df = pd.DataFrame(data)"
   ]
  },
  {
   "cell_type": "code",
   "execution_count": 25,
   "metadata": {},
   "outputs": [],
   "source": [
    "# DataFrame'i CSV dosyası olarak kaydet\n",
    "df.to_csv('veri.csv', index=False)"
   ]
  },
  {
   "cell_type": "code",
   "execution_count": 26,
   "metadata": {},
   "outputs": [
    {
     "name": "stdout",
     "output_type": "stream",
     "text": [
      "Orijinal Veri Çerçevesi:\n",
      "       Ad   Yaş  Maaş     Şehir\n",
      "0   Ahmet  25.0  5000  İstanbul\n",
      "1  Mehmet  30.0  6000    Ankara\n",
      "2    Ayşe  22.0  5200     İzmir\n",
      "3   Fatma  35.0  7000     Bursa\n",
      "4     Ali  28.0  6800   Antalya\n",
      "5    Ayşe  22.0  5200       NaN\n",
      "6   Ahmet   NaN  5000  İstanbul\n",
      "7   Fatma  35.0  7000     Bursa\n",
      "8  Mehmet  30.0  6000    Ankara\n",
      "9     Ali   NaN  6800   Antalya\n",
      "\n",
      "Eksik Veri Kontrolü:\n",
      "Ad       0\n",
      "Yaş      2\n",
      "Maaş     0\n",
      "Şehir    1\n",
      "dtype: int64\n"
     ]
    }
   ],
   "source": [
    "# Veri çerçevesini göster\n",
    "print('Orijinal Veri Çerçevesi:')\n",
    "print(veri)\n",
    "\n",
    "# Eksik verilerin tespiti\n",
    "print('\\nEksik Veri Kontrolü:')\n",
    "print(veri.isnull().sum())"
   ]
  },
  {
   "cell_type": "code",
   "execution_count": 27,
   "metadata": {},
   "outputs": [
    {
     "name": "stdout",
     "output_type": "stream",
     "text": [
      "\n",
      "Düzenlenmiş Veri Çerçevesi:\n",
      "       Ad       Yaş  Maaş  Şehir\n",
      "0   Ahmet  0.230769   0.0      4\n",
      "1  Mehmet  0.615385   0.5      0\n",
      "2    Ayşe  0.000000   0.1      5\n",
      "3   Fatma  1.000000   1.0      3\n",
      "4     Ali  0.461538   0.9      1\n",
      "5    Ayşe  0.000000   0.1      2\n",
      "6   Ahmet  0.490385   0.0      4\n",
      "9     Ali  0.490385   0.9      1\n"
     ]
    },
    {
     "name": "stderr",
     "output_type": "stream",
     "text": [
      "/var/folders/bn/fsn7y0ds1vl73pjmxwqvqdxw0000gn/T/ipykernel_82431/2337424644.py:2: FutureWarning: A value is trying to be set on a copy of a DataFrame or Series through chained assignment using an inplace method.\n",
      "The behavior will change in pandas 3.0. This inplace method will never work because the intermediate object on which we are setting values always behaves as a copy.\n",
      "\n",
      "For example, when doing 'df[col].method(value, inplace=True)', try using 'df.method({col: value}, inplace=True)' or df[col] = df[col].method(value) instead, to perform the operation inplace on the original object.\n",
      "\n",
      "\n",
      "  veri['Yaş'].fillna(veri['Yaş'].mean(), inplace=True)\n",
      "/var/folders/bn/fsn7y0ds1vl73pjmxwqvqdxw0000gn/T/ipykernel_82431/2337424644.py:3: FutureWarning: A value is trying to be set on a copy of a DataFrame or Series through chained assignment using an inplace method.\n",
      "The behavior will change in pandas 3.0. This inplace method will never work because the intermediate object on which we are setting values always behaves as a copy.\n",
      "\n",
      "For example, when doing 'df[col].method(value, inplace=True)', try using 'df.method({col: value}, inplace=True)' or df[col] = df[col].method(value) instead, to perform the operation inplace on the original object.\n",
      "\n",
      "\n",
      "  veri['Şehir'].fillna('Bilinmiyor', inplace=True)\n"
     ]
    }
   ],
   "source": [
    "# Eksik verileri doldurma (Ortalama ile doldurma)\n",
    "veri['Yaş'].fillna(veri['Yaş'].mean(), inplace=True)\n",
    "veri['Şehir'].fillna('Bilinmiyor', inplace=True)\n",
    "\n",
    "# Tekrarlayan verilerin kaldırılması\n",
    "veri = veri.drop_duplicates()\n",
    "\n",
    "# Normalizasyon (Yaş ve Maaş sütunlarını 0-1 aralığına ölçekleme)\n",
    "scaler = MinMaxScaler()\n",
    "veri[['Yaş', 'Maaş']] = scaler.fit_transform(veri[['Yaş', 'Maaş']])\n",
    "\n",
    "# Kategorik verilerin dönüştürülmesi (Label Encoding)\n",
    "label_encoder = LabelEncoder()\n",
    "veri['Şehir'] = label_encoder.fit_transform(veri['Şehir'])\n",
    "\n",
    "# Düzenlenmiş veriyi göster\n",
    "print('\\nDüzenlenmiş Veri Çerçevesi:')\n",
    "print(veri)"
   ]
  },
  {
   "cell_type": "code",
   "execution_count": 28,
   "metadata": {},
   "outputs": [
    {
     "name": "stdout",
     "output_type": "stream",
     "text": [
      "Orijinal Veri Çerçevesi:\n",
      "       Ad   Yaş  Maaş     Şehir  Çalışma Süresi (Yıl) Departman\n",
      "0   Ahmet  25.0  5000  İstanbul                     2        IT\n",
      "1  Mehmet  30.0  6000    Ankara                     5        HR\n",
      "2    Ayşe  22.0  5200     İzmir                     1        IT\n",
      "3   Fatma  35.0  7000     Bursa                    10    Finans\n",
      "4     Ali  28.0  6800   Antalya                     7        IT\n",
      "5    Ayşe  22.0  5200       NaN                     1        HR\n",
      "6   Ahmet   NaN  5000  İstanbul                     2        IT\n",
      "7   Fatma  35.0  7000     Bursa                    10    Finans\n",
      "8  Mehmet  30.0  6000    Ankara                     5        HR\n",
      "9     Ali   NaN  6800   Antalya                     7        IT\n",
      "\n",
      "Eksik Veri Kontrolü:\n",
      "Ad                      0\n",
      "Yaş                     2\n",
      "Maaş                    0\n",
      "Şehir                   1\n",
      "Çalışma Süresi (Yıl)    0\n",
      "Departman               0\n",
      "dtype: int64\n",
      "\n",
      "Seçilen Özellikler: Index(['Yaş', 'Maaş', 'Çalışma Süresi (Yıl)'], dtype='object')\n",
      "\n",
      "Eğitim seti boyutu: (6, 3)\n",
      "Test seti boyutu: (2, 3)\n"
     ]
    },
    {
     "name": "stderr",
     "output_type": "stream",
     "text": [
      "/var/folders/bn/fsn7y0ds1vl73pjmxwqvqdxw0000gn/T/ipykernel_82431/138449884.py:30: FutureWarning: A value is trying to be set on a copy of a DataFrame or Series through chained assignment using an inplace method.\n",
      "The behavior will change in pandas 3.0. This inplace method will never work because the intermediate object on which we are setting values always behaves as a copy.\n",
      "\n",
      "For example, when doing 'df[col].method(value, inplace=True)', try using 'df.method({col: value}, inplace=True)' or df[col] = df[col].method(value) instead, to perform the operation inplace on the original object.\n",
      "\n",
      "\n",
      "  veri['Yaş'].fillna(veri['Yaş'].mean(), inplace=True)\n",
      "/var/folders/bn/fsn7y0ds1vl73pjmxwqvqdxw0000gn/T/ipykernel_82431/138449884.py:31: FutureWarning: A value is trying to be set on a copy of a DataFrame or Series through chained assignment using an inplace method.\n",
      "The behavior will change in pandas 3.0. This inplace method will never work because the intermediate object on which we are setting values always behaves as a copy.\n",
      "\n",
      "For example, when doing 'df[col].method(value, inplace=True)', try using 'df.method({col: value}, inplace=True)' or df[col] = df[col].method(value) instead, to perform the operation inplace on the original object.\n",
      "\n",
      "\n",
      "  veri['Şehir'].fillna('Bilinmiyor', inplace=True)\n",
      "/opt/miniconda3/envs/data-analysis/lib/python3.13/site-packages/sklearn/feature_selection/_univariate_selection.py:112: RuntimeWarning: divide by zero encountered in divide\n",
      "  f = msb / msw\n"
     ]
    }
   ],
   "source": [
    "# Gerekli kütüphanelerin import edilmesi\n",
    "import pandas as pd\n",
    "import numpy as np\n",
    "from sklearn.preprocessing import MinMaxScaler, LabelEncoder\n",
    "from sklearn.feature_selection import SelectKBest, f_classif\n",
    "from sklearn.model_selection import train_test_split\n",
    "\n",
    "# Rastgele veri oluşturma\n",
    "np.random.seed(0)\n",
    "\n",
    "# Örnek veri çerçevesi oluşturma\n",
    "veri = pd.DataFrame({\n",
    "    'Ad': ['Ahmet', 'Mehmet', 'Ayşe', 'Fatma', 'Ali', 'Ayşe', 'Ahmet', 'Fatma', 'Mehmet', 'Ali'],\n",
    "    'Yaş': [25, 30, 22, 35, 28, 22, np.nan, 35, 30, np.nan],\n",
    "    'Maaş': [5000, 6000, 5200, 7000, 6800, 5200, 5000, 7000, 6000, 6800],\n",
    "    'Şehir': ['İstanbul', 'Ankara', 'İzmir', 'Bursa', 'Antalya', np.nan, 'İstanbul', 'Bursa', 'Ankara', 'Antalya'],\n",
    "    'Çalışma Süresi (Yıl)': [2, 5, 1, 10, 7, 1, 2, 10, 5, 7],\n",
    "    'Departman': ['IT', 'HR', 'IT', 'Finans', 'IT', 'HR', 'IT', 'Finans', 'HR', 'IT']\n",
    "})\n",
    "\n",
    "# Orijinal Veri Çerçevesi\n",
    "print('Orijinal Veri Çerçevesi:')\n",
    "print(veri)\n",
    "\n",
    "# Eksik verilerin tespiti\n",
    "print('\\nEksik Veri Kontrolü:')\n",
    "print(veri.isnull().sum())\n",
    "\n",
    "# Eksik verileri doldurma (Ortalama ile doldurma)\n",
    "veri['Yaş'].fillna(veri['Yaş'].mean(), inplace=True)\n",
    "veri['Şehir'].fillna('Bilinmiyor', inplace=True)\n",
    "\n",
    "# Tekrarlayan verilerin kaldırılması\n",
    "veri = veri.drop_duplicates()\n",
    "\n",
    "# Kategorik verilerin dönüştürülmesi (Label Encoding)\n",
    "label_encoder = LabelEncoder()\n",
    "veri['Şehir'] = label_encoder.fit_transform(veri['Şehir'])\n",
    "veri['Departman'] = label_encoder.fit_transform(veri['Departman'])\n",
    "\n",
    "# Normalizasyon (Yaş ve Maaş sütunlarını 0-1 aralığına ölçekleme)\n",
    "scaler = MinMaxScaler()\n",
    "veri[['Yaş', 'Maaş', 'Çalışma Süresi (Yıl)']] = scaler.fit_transform(veri[['Yaş', 'Maaş', 'Çalışma Süresi (Yıl)']])\n",
    "\n",
    "# Özellik ve hedef değişkenlerin ayrılması\n",
    "X = veri.drop(['Ad'], axis=1)\n",
    "y = veri['Ad']\n",
    "\n",
    "# Özellik seçimi (En iyi 3 özelliği seçme)\n",
    "selector = SelectKBest(score_func=f_classif, k=3)\n",
    "X_new = selector.fit_transform(X, y)\n",
    "selected_features = X.columns[selector.get_support(indices=True)]\n",
    "print('\\nSeçilen Özellikler:', selected_features)\n",
    "\n",
    "# Eğitim ve test setlerine ayırma\n",
    "X_train, X_test, y_train, y_test = train_test_split(X[selected_features], y, test_size=0.2, random_state=42)\n",
    "\n",
    "# Eğitim ve test setlerinin boyutları\n",
    "print('\\nEğitim seti boyutu:', X_train.shape)\n",
    "print('Test seti boyutu:', X_test.shape)"
   ]
  },
  {
   "cell_type": "code",
   "execution_count": 29,
   "metadata": {},
   "outputs": [
    {
     "data": {
      "text/plain": [
       "\"import pandas as pd\\nimport numpy as np\\n\\n# Veriyi okuma\\nveri = pd.read_csv('veri.csv')\\n\\n# İlk 5 satırı göster\\nprint('İlk 5 Satır:')\\nprint(veri.head())\\n\\n# Eksik değerleri bulma\\nprint('\\nEksik Değerler:')\\nprint(veri.isnull().sum())\\n\\n# Eksik değerleri doldurma veya kaldırma\\nveri = veri.fillna(veri.mean())  # Sayısal sütunlar için ortalama ile doldurma\\nveri = veri.dropna(subset=['Önemli_Sütun'])  # Önemli_Sütun sütununda eksik değerler varsa kaldırma\\n\\n# Aykırı değerleri tespit etme ve kaldırma\\nQ1 = veri.quantile(0.25)\\nQ3 = veri.quantile(0.75)\\nIQR = Q3 - Q1\\nveri = veri[~((veri < (Q1 - 1.5 * IQR)) | (veri > (Q3 + 1.5 * IQR))).any(axis=1)]\\n\\n# Veri türü dönüştürme\\nveri['Tarih'] = pd.to_datetime(veri['Tarih'], errors='coerce')\\n\\n# Kategorik değişkenleri dönüştürme\\nveri = pd.get_dummies(veri, columns=['Kategori'], drop_first=True)\\n\\n# Düzenlenmiş veriyi gösterme\\nprint('\\nDüzenlenmiş Veri:')\\nprint(veri.head())\\n\\n# Düzenlenmiş veriyi kaydetme\\nveri.to_csv('duzenlenmis_veri.csv', index=False)\""
      ]
     },
     "execution_count": 29,
     "metadata": {},
     "output_type": "execute_result"
    }
   ],
   "source": [
    "'''import pandas as pd\n",
    "import numpy as np\n",
    "\n",
    "# Veriyi okuma\n",
    "veri = pd.read_csv('veri.csv')\n",
    "\n",
    "# İlk 5 satırı göster\n",
    "print('İlk 5 Satır:')\n",
    "print(veri.head())\n",
    "\n",
    "# Eksik değerleri bulma\n",
    "print('\\nEksik Değerler:')\n",
    "print(veri.isnull().sum())\n",
    "\n",
    "# Eksik değerleri doldurma veya kaldırma\n",
    "veri = veri.fillna(veri.mean())  # Sayısal sütunlar için ortalama ile doldurma\n",
    "veri = veri.dropna(subset=['Önemli_Sütun'])  # Önemli_Sütun sütununda eksik değerler varsa kaldırma\n",
    "\n",
    "# Aykırı değerleri tespit etme ve kaldırma\n",
    "Q1 = veri.quantile(0.25)\n",
    "Q3 = veri.quantile(0.75)\n",
    "IQR = Q3 - Q1\n",
    "veri = veri[~((veri < (Q1 - 1.5 * IQR)) | (veri > (Q3 + 1.5 * IQR))).any(axis=1)]\n",
    "\n",
    "# Veri türü dönüştürme\n",
    "veri['Tarih'] = pd.to_datetime(veri['Tarih'], errors='coerce')\n",
    "\n",
    "# Kategorik değişkenleri dönüştürme\n",
    "veri = pd.get_dummies(veri, columns=['Kategori'], drop_first=True)\n",
    "\n",
    "# Düzenlenmiş veriyi gösterme\n",
    "print('\\nDüzenlenmiş Veri:')\n",
    "print(veri.head())\n",
    "\n",
    "# Düzenlenmiş veriyi kaydetme\n",
    "veri.to_csv('duzenlenmis_veri.csv', index=False)'''"
   ]
  }
 ],
 "metadata": {
  "kernelspec": {
   "display_name": "data-analysis",
   "language": "python",
   "name": "python3"
  },
  "language_info": {
   "codemirror_mode": {
    "name": "ipython",
    "version": 3
   },
   "file_extension": ".py",
   "mimetype": "text/x-python",
   "name": "python",
   "nbconvert_exporter": "python",
   "pygments_lexer": "ipython3",
   "version": "3.13.2"
  }
 },
 "nbformat": 4,
 "nbformat_minor": 2
}
