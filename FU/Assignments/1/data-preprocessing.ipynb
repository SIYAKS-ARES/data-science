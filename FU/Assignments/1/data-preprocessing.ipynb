{
 "cells": [
  {
   "cell_type": "code",
   "execution_count": 3,
   "metadata": {},
   "outputs": [],
   "source": [
    "import pandas as pd\n",
    "import numpy as np\n",
    "from sklearn.preprocessing import MinMaxScaler, LabelEncoder\n",
    "from sklearn.model_selection import train_test_split\n",
    "from sklearn.feature_selection import SelectKBest, f_classif"
   ]
  },
  {
   "cell_type": "markdown",
   "metadata": {},
   "source": [
    "# 1. Veri Oluşturma veya Yükleme\n",
    "# Örnek veri oluşturma (CSV'den de okunabilir)"
   ]
  },
  {
   "cell_type": "code",
   "execution_count": 4,
   "metadata": {},
   "outputs": [],
   "source": [
    "data = {\n",
    "    'Ad': ['Ahmet', 'Mehmet', 'Ayşe', 'Fatma', 'Ali', 'Ayşe', 'Ahmet', 'Fatma', 'Mehmet', 'Ali'],\n",
    "    'Yaş': [25, 30, 22, 35, 28, 22, np.nan, 35, 30, np.nan],\n",
    "    'Maaş': [5000, 6000, 5200, 7000, 6800, 5200, 5000, 7000, 6000, 6800],\n",
    "    'Şehir': ['İstanbul', 'Ankara', 'İzmir', 'Bursa', 'Antalya', np.nan, 'İstanbul', 'Bursa', 'Ankara', 'Antalya'],\n",
    "    'Çalışma Süresi (Yıl)': [2, 5, 1, 10, 7, 1, 2, 10, 5, 7],\n",
    "    'Departman': ['IT', 'HR', 'IT', 'Finans', 'IT', 'HR', 'IT', 'Finans', 'HR', 'IT']\n",
    "}\n",
    "\n",
    "df = pd.DataFrame(data)\n",
    "\n",
    "# Gerekirse CSV'den okuma:\n",
    "# df = pd.read_csv('veri.csv')"
   ]
  },
  {
   "cell_type": "markdown",
   "metadata": {},
   "source": [
    "# 2. Veriyi İnceleme"
   ]
  },
  {
   "cell_type": "code",
   "execution_count": 5,
   "metadata": {},
   "outputs": [
    {
     "name": "stdout",
     "output_type": "stream",
     "text": [
      "Orijinal Veri:\n",
      "        Ad   Yaş  Maaş     Şehir  Çalışma Süresi (Yıl) Departman\n",
      "0   Ahmet  25.0  5000  İstanbul                     2        IT\n",
      "1  Mehmet  30.0  6000    Ankara                     5        HR\n",
      "2    Ayşe  22.0  5200     İzmir                     1        IT\n",
      "3   Fatma  35.0  7000     Bursa                    10    Finans\n",
      "4     Ali  28.0  6800   Antalya                     7        IT\n",
      "5    Ayşe  22.0  5200       NaN                     1        HR\n",
      "6   Ahmet   NaN  5000  İstanbul                     2        IT\n",
      "7   Fatma  35.0  7000     Bursa                    10    Finans\n",
      "8  Mehmet  30.0  6000    Ankara                     5        HR\n",
      "9     Ali   NaN  6800   Antalya                     7        IT\n",
      "\n",
      "Veri Tipleri:\n",
      " Ad                       object\n",
      "Yaş                     float64\n",
      "Maaş                      int64\n",
      "Şehir                    object\n",
      "Çalışma Süresi (Yıl)      int64\n",
      "Departman                object\n",
      "dtype: object\n",
      "\n",
      "Eksik Veri Sayısı:\n",
      " Ad                      0\n",
      "Yaş                     2\n",
      "Maaş                    0\n",
      "Şehir                   1\n",
      "Çalışma Süresi (Yıl)    0\n",
      "Departman               0\n",
      "dtype: int64\n"
     ]
    }
   ],
   "source": [
    "print(\"Orijinal Veri:\\n\", df)\n",
    "print(\"\\nVeri Tipleri:\\n\", df.dtypes)\n",
    "print(\"\\nEksik Veri Sayısı:\\n\", df.isnull().sum())\n"
   ]
  },
  {
   "cell_type": "markdown",
   "metadata": {},
   "source": [
    "# 3. Eksik Veri Yönetimi\n",
    "# Sayısal sütunları ortalama ile, kategorik sütunları 'Bilinmiyor' ile doldur"
   ]
  },
  {
   "cell_type": "code",
   "execution_count": 6,
   "metadata": {},
   "outputs": [],
   "source": [
    "for col in df.columns:\n",
    "    if df[col].dtype == 'float64' or df[col].dtype == 'int64':\n",
    "        df[col] = df[col].fillna(df[col].mean())\n",
    "    else:\n",
    "        df[col] = df[col].fillna('Bilinmiyor')"
   ]
  },
  {
   "cell_type": "markdown",
   "metadata": {},
   "source": [
    "# 4. Tekrarlayan Verileri Kaldırma"
   ]
  },
  {
   "cell_type": "code",
   "execution_count": 7,
   "metadata": {},
   "outputs": [],
   "source": [
    "df = df.drop_duplicates()"
   ]
  },
  {
   "cell_type": "markdown",
   "metadata": {},
   "source": [
    "# 5. Kategorik Verileri Kodlama (Encoding)\n",
    "# Label Encoding"
   ]
  },
  {
   "cell_type": "code",
   "execution_count": 8,
   "metadata": {},
   "outputs": [],
   "source": [
    "label_encoder = LabelEncoder()\n",
    "for col in ['Şehir', 'Departman']:\n",
    "    df[col] = label_encoder.fit_transform(df[col])\n",
    "\n",
    "# One-Hot Encoding (Alternatif)\n",
    "# df = pd.get_dummies(df, columns=['Şehir', 'Departman'], drop_first=True)"
   ]
  },
  {
   "cell_type": "markdown",
   "metadata": {},
   "source": [
    "# 6. Sayısal Verileri Ölçeklendirme (Scaling)\n",
    "# MinMaxScaler"
   ]
  },
  {
   "cell_type": "code",
   "execution_count": 9,
   "metadata": {},
   "outputs": [],
   "source": [
    "scaler = MinMaxScaler()\n",
    "numerical_cols = ['Yaş', 'Maaş', 'Çalışma Süresi (Yıl)']\n",
    "df[numerical_cols] = scaler.fit_transform(df[numerical_cols])"
   ]
  },
  {
   "cell_type": "markdown",
   "metadata": {},
   "source": [
    "# 7. Özellik Seçimi (Feature Selection)\n",
    "# Hedef değişkeni ve özellikleri ayır"
   ]
  },
  {
   "cell_type": "code",
   "execution_count": 10,
   "metadata": {},
   "outputs": [],
   "source": [
    "X = df.drop(['Ad'], axis=1)  # 'Ad'ı çıkarıyoruz, çünkü model için gerekli değil\n",
    "y = df['Ad']  # Hedef değişken olarak 'Ad'ı kullanıyoruz"
   ]
  },
  {
   "cell_type": "code",
   "execution_count": 11,
   "metadata": {},
   "outputs": [
    {
     "name": "stdout",
     "output_type": "stream",
     "text": [
      "\n",
      "Seçilen Özellikler: Index(['Yaş', 'Maaş', 'Çalışma Süresi (Yıl)'], dtype='object')\n"
     ]
    },
    {
     "name": "stderr",
     "output_type": "stream",
     "text": [
      "/opt/miniconda3/envs/data-analysis/lib/python3.13/site-packages/sklearn/feature_selection/_univariate_selection.py:112: RuntimeWarning: divide by zero encountered in divide\n",
      "  f = msb / msw\n"
     ]
    }
   ],
   "source": [
    "# En iyi 3 özelliği seç\n",
    "selector = SelectKBest(score_func=f_classif, k=3)\n",
    "X_new = selector.fit_transform(X, y)\n",
    "selected_features = X.columns[selector.get_support(indices=True)]\n",
    "print(\"\\nSeçilen Özellikler:\", selected_features)"
   ]
  },
  {
   "cell_type": "markdown",
   "metadata": {},
   "source": [
    "# 8. Eğitim ve Test Verisi Oluşturma"
   ]
  },
  {
   "cell_type": "code",
   "execution_count": 12,
   "metadata": {},
   "outputs": [
    {
     "name": "stdout",
     "output_type": "stream",
     "text": [
      "\n",
      "Eğitim Verisi Boyutu: (6, 3)\n",
      "Test Verisi Boyutu: (2, 3)\n",
      "\n",
      "İşlenmiş Veri:\n",
      "        Ad       Yaş  Maaş  Şehir  Çalışma Süresi (Yıl)  Departman\n",
      "0   Ahmet  0.230769   0.0      4              0.111111          2\n",
      "1  Mehmet  0.615385   0.5      0              0.444444          1\n",
      "2    Ayşe  0.000000   0.1      5              0.000000          2\n",
      "3   Fatma  1.000000   1.0      3              1.000000          0\n",
      "4     Ali  0.461538   0.9      1              0.666667          2\n",
      "5    Ayşe  0.000000   0.1      2              0.000000          1\n",
      "6   Ahmet  0.490385   0.0      4              0.111111          2\n",
      "9     Ali  0.490385   0.9      1              0.666667          2\n"
     ]
    }
   ],
   "source": [
    "X_train, X_test, y_train, y_test = train_test_split(\n",
    "    X[selected_features], y, test_size=0.2, random_state=42\n",
    ")\n",
    "\n",
    "print(\"\\nEğitim Verisi Boyutu:\", X_train.shape)\n",
    "print(\"Test Verisi Boyutu:\", X_test.shape)\n",
    "\n",
    "print(\"\\nİşlenmiş Veri:\\n\", df)"
   ]
  },
  {
   "cell_type": "code",
   "execution_count": null,
   "metadata": {},
   "outputs": [],
   "source": []
  },
  {
   "cell_type": "code",
   "execution_count": null,
   "metadata": {},
   "outputs": [],
   "source": []
  },
  {
   "cell_type": "code",
   "execution_count": null,
   "metadata": {},
   "outputs": [],
   "source": []
  }
 ],
 "metadata": {
  "kernelspec": {
   "display_name": "data-analysis",
   "language": "python",
   "name": "python3"
  },
  "language_info": {
   "codemirror_mode": {
    "name": "ipython",
    "version": 3
   },
   "file_extension": ".py",
   "mimetype": "text/x-python",
   "name": "python",
   "nbconvert_exporter": "python",
   "pygments_lexer": "ipython3",
   "version": "3.13.2"
  }
 },
 "nbformat": 4,
 "nbformat_minor": 2
}
